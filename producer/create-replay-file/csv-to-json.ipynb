{
 "cells": [
  {
   "cell_type": "code",
   "execution_count": 21,
   "metadata": {
    "collapsed": false
   },
   "outputs": [],
   "source": [
    "import datetime\n",
    "import csv\n",
    "import json\n",
    "\n",
    "with open('monday.csv', 'r') as csv_file:\n",
    "    with open('monday.json', 'w') as json_file:\n",
    "        reader = csv.reader(csv_file)\n",
    "        for row in list(reader):\n",
    "            (_id, timestamp, lng, lat, wait_time) = row\n",
    "            json_dict = {\n",
    "                'timestamp': datetime.datetime.strptime(timestamp, '%Y-%m-%d %H:%M:%S').strftime('%Y-%m-%d:%H:%M:%S'),\n",
    "                'longitude': lng,\n",
    "                'latitude': lat,\n",
    "                'wait_time': wait_time\n",
    "            }\n",
    "            json_file.write(json.dumps(json_dict) + '\\n')"
   ]
  },
  {
   "cell_type": "code",
   "execution_count": null,
   "metadata": {
    "collapsed": true
   },
   "outputs": [],
   "source": []
  }
 ],
 "metadata": {
  "kernelspec": {
   "display_name": "Python 2",
   "language": "python",
   "name": "python2"
  },
  "language_info": {
   "codemirror_mode": {
    "name": "ipython",
    "version": 2
   },
   "file_extension": ".py",
   "mimetype": "text/x-python",
   "name": "python",
   "nbconvert_exporter": "python",
   "pygments_lexer": "ipython2",
   "version": "2.7.9"
  }
 },
 "nbformat": 4,
 "nbformat_minor": 0
}
