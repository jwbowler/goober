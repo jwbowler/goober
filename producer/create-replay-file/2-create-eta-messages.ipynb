{
 "cells": [
  {
   "cell_type": "code",
   "execution_count": 17,
   "metadata": {
    "collapsed": false
   },
   "outputs": [
    {
     "name": "stdout",
     "output_type": "stream",
     "text": [
      "10000\n",
      "20000\n",
      "30000\n",
      "40000\n",
      "50000\n",
      "60000\n",
      "70000\n",
      "80000\n",
      "90000\n",
      "100000\n",
      "110000\n",
      "120000\n",
      "130000\n",
      "140000\n",
      "150000\n",
      "160000\n",
      "170000\n",
      "180000\n",
      "190000\n",
      "200000\n",
      "210000\n",
      "220000\n",
      "230000\n",
      "240000\n",
      "250000\n",
      "260000\n",
      "270000\n",
      "280000\n",
      "290000\n",
      "300000\n",
      "310000\n",
      "320000\n",
      "330000\n",
      "340000\n",
      "350000\n",
      "360000\n",
      "370000\n",
      "380000\n",
      "390000\n",
      "400000\n"
     ]
    }
   ],
   "source": [
    "import datetime\n",
    "import math\n",
    "\n",
    "with open('monday-request.csv', 'r') as in_file:\n",
    "    with open('monday-eta.csv', 'w') as out_file:\n",
    "        counter = 0\n",
    "        \n",
    "        for line in in_file:\n",
    "            (ride_id, request_time, lng, lat, wait_time) = line.split(',')\n",
    "            wait_time = int(wait_time)\n",
    "            time = datetime.datetime.strptime(request_time, '%Y-%m-%d %H:%M:%S')\n",
    "            \n",
    "            for i in range(2, wait_time, 2):\n",
    "                time += datetime.timedelta(seconds=2)\n",
    "                out_file.write(','.join((ride_id, time.strftime('%Y-%m-%d %H:%M:%S'), lng, lat, str(wait_time - i))) + '\\n')\n",
    "                \n",
    "            counter += 1\n",
    "            if counter % 10000 == 0:\n",
    "                print counter"
   ]
  },
  {
   "cell_type": "code",
   "execution_count": null,
   "metadata": {
    "collapsed": true
   },
   "outputs": [],
   "source": []
  }
 ],
 "metadata": {
  "kernelspec": {
   "display_name": "Python 2",
   "language": "python",
   "name": "python2"
  },
  "language_info": {
   "codemirror_mode": {
    "name": "ipython",
    "version": 2
   },
   "file_extension": ".py",
   "mimetype": "text/x-python",
   "name": "python",
   "nbconvert_exporter": "python",
   "pygments_lexer": "ipython2",
   "version": "2.7.9"
  }
 },
 "nbformat": 4,
 "nbformat_minor": 0
}
