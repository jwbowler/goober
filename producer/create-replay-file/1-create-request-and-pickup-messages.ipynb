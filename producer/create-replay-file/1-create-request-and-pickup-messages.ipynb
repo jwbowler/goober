{
 "cells": [
  {
   "cell_type": "code",
   "execution_count": 1,
   "metadata": {
    "collapsed": false
   },
   "outputs": [],
   "source": [
    "import numpy as np\n",
    "import pandas as pd\n",
    "\n",
    "df = pd.read_csv(\"./trip_data_1.csv\")"
   ]
  },
  {
   "cell_type": "code",
   "execution_count": 2,
   "metadata": {
    "collapsed": false
   },
   "outputs": [
    {
     "data": {
      "text/html": [
       "<div style=\"max-height:1000px;max-width:1500px;overflow:auto;\">\n",
       "<table border=\"1\" class=\"dataframe\">\n",
       "  <thead>\n",
       "    <tr style=\"text-align: right;\">\n",
       "      <th></th>\n",
       "      <th>medallion</th>\n",
       "      <th>hack_license</th>\n",
       "      <th>vendor_id</th>\n",
       "      <th>rate_code</th>\n",
       "      <th>store_and_fwd_flag</th>\n",
       "      <th>pickup_datetime</th>\n",
       "      <th>dropoff_datetime</th>\n",
       "      <th>passenger_count</th>\n",
       "      <th>trip_time_in_secs</th>\n",
       "      <th>trip_distance</th>\n",
       "      <th>pickup_longitude</th>\n",
       "      <th>pickup_latitude</th>\n",
       "      <th>dropoff_longitude</th>\n",
       "      <th>dropoff_latitude</th>\n",
       "    </tr>\n",
       "  </thead>\n",
       "  <tbody>\n",
       "    <tr>\n",
       "      <th>0</th>\n",
       "      <td> 89D227B655E5C82AECF13C3F540D4CF4</td>\n",
       "      <td> BA96DE419E711691B9445D6A6307C170</td>\n",
       "      <td> CMT</td>\n",
       "      <td> 1</td>\n",
       "      <td> N</td>\n",
       "      <td> 2013-01-01 15:11:48</td>\n",
       "      <td> 2013-01-01 15:18:10</td>\n",
       "      <td> 4</td>\n",
       "      <td> 382</td>\n",
       "      <td> 1.0</td>\n",
       "      <td>-73.978165</td>\n",
       "      <td> 40.757977</td>\n",
       "      <td>-73.989838</td>\n",
       "      <td> 40.751171</td>\n",
       "    </tr>\n",
       "    <tr>\n",
       "      <th>1</th>\n",
       "      <td> 0BD7C8F5BA12B88E0B67BED28BEA73D8</td>\n",
       "      <td> 9FD8F69F0804BDB5549F40E9DA1BE472</td>\n",
       "      <td> CMT</td>\n",
       "      <td> 1</td>\n",
       "      <td> N</td>\n",
       "      <td> 2013-01-06 00:18:35</td>\n",
       "      <td> 2013-01-06 00:22:54</td>\n",
       "      <td> 1</td>\n",
       "      <td> 259</td>\n",
       "      <td> 1.5</td>\n",
       "      <td>-74.006683</td>\n",
       "      <td> 40.731781</td>\n",
       "      <td>-73.994499</td>\n",
       "      <td> 40.750660</td>\n",
       "    </tr>\n",
       "    <tr>\n",
       "      <th>2</th>\n",
       "      <td> 0BD7C8F5BA12B88E0B67BED28BEA73D8</td>\n",
       "      <td> 9FD8F69F0804BDB5549F40E9DA1BE472</td>\n",
       "      <td> CMT</td>\n",
       "      <td> 1</td>\n",
       "      <td> N</td>\n",
       "      <td> 2013-01-05 18:49:41</td>\n",
       "      <td> 2013-01-05 18:54:23</td>\n",
       "      <td> 1</td>\n",
       "      <td> 282</td>\n",
       "      <td> 1.1</td>\n",
       "      <td>-74.004707</td>\n",
       "      <td> 40.737770</td>\n",
       "      <td>-74.009834</td>\n",
       "      <td> 40.726002</td>\n",
       "    </tr>\n",
       "    <tr>\n",
       "      <th>3</th>\n",
       "      <td> DFD2202EE08F7A8DC9A57B02ACB81FE2</td>\n",
       "      <td> 51EE87E3205C985EF8431D850C786310</td>\n",
       "      <td> CMT</td>\n",
       "      <td> 1</td>\n",
       "      <td> N</td>\n",
       "      <td> 2013-01-07 23:54:15</td>\n",
       "      <td> 2013-01-07 23:58:20</td>\n",
       "      <td> 2</td>\n",
       "      <td> 244</td>\n",
       "      <td> 0.7</td>\n",
       "      <td>-73.974602</td>\n",
       "      <td> 40.759945</td>\n",
       "      <td>-73.984734</td>\n",
       "      <td> 40.759388</td>\n",
       "    </tr>\n",
       "    <tr>\n",
       "      <th>4</th>\n",
       "      <td> DFD2202EE08F7A8DC9A57B02ACB81FE2</td>\n",
       "      <td> 51EE87E3205C985EF8431D850C786310</td>\n",
       "      <td> CMT</td>\n",
       "      <td> 1</td>\n",
       "      <td> N</td>\n",
       "      <td> 2013-01-07 23:25:03</td>\n",
       "      <td> 2013-01-07 23:34:24</td>\n",
       "      <td> 1</td>\n",
       "      <td> 560</td>\n",
       "      <td> 2.1</td>\n",
       "      <td>-73.976250</td>\n",
       "      <td> 40.748528</td>\n",
       "      <td>-74.002586</td>\n",
       "      <td> 40.747868</td>\n",
       "    </tr>\n",
       "  </tbody>\n",
       "</table>\n",
       "</div>"
      ],
      "text/plain": [
       "                          medallion                      hack_license  \\\n",
       "0  89D227B655E5C82AECF13C3F540D4CF4  BA96DE419E711691B9445D6A6307C170   \n",
       "1  0BD7C8F5BA12B88E0B67BED28BEA73D8  9FD8F69F0804BDB5549F40E9DA1BE472   \n",
       "2  0BD7C8F5BA12B88E0B67BED28BEA73D8  9FD8F69F0804BDB5549F40E9DA1BE472   \n",
       "3  DFD2202EE08F7A8DC9A57B02ACB81FE2  51EE87E3205C985EF8431D850C786310   \n",
       "4  DFD2202EE08F7A8DC9A57B02ACB81FE2  51EE87E3205C985EF8431D850C786310   \n",
       "\n",
       "  vendor_id  rate_code store_and_fwd_flag      pickup_datetime  \\\n",
       "0       CMT          1                  N  2013-01-01 15:11:48   \n",
       "1       CMT          1                  N  2013-01-06 00:18:35   \n",
       "2       CMT          1                  N  2013-01-05 18:49:41   \n",
       "3       CMT          1                  N  2013-01-07 23:54:15   \n",
       "4       CMT          1                  N  2013-01-07 23:25:03   \n",
       "\n",
       "      dropoff_datetime  passenger_count  trip_time_in_secs  trip_distance  \\\n",
       "0  2013-01-01 15:18:10                4                382            1.0   \n",
       "1  2013-01-06 00:22:54                1                259            1.5   \n",
       "2  2013-01-05 18:54:23                1                282            1.1   \n",
       "3  2013-01-07 23:58:20                2                244            0.7   \n",
       "4  2013-01-07 23:34:24                1                560            2.1   \n",
       "\n",
       "   pickup_longitude  pickup_latitude  dropoff_longitude  dropoff_latitude  \n",
       "0        -73.978165        40.757977         -73.989838         40.751171  \n",
       "1        -74.006683        40.731781         -73.994499         40.750660  \n",
       "2        -74.004707        40.737770         -74.009834         40.726002  \n",
       "3        -73.974602        40.759945         -73.984734         40.759388  \n",
       "4        -73.976250        40.748528         -74.002586         40.747868  "
      ]
     },
     "execution_count": 2,
     "metadata": {},
     "output_type": "execute_result"
    }
   ],
   "source": [
    "df.head()"
   ]
  },
  {
   "cell_type": "code",
   "execution_count": 3,
   "metadata": {
    "collapsed": false
   },
   "outputs": [
    {
     "data": {
      "text/html": [
       "<div style=\"max-height:1000px;max-width:1500px;overflow:auto;\">\n",
       "<table border=\"1\" class=\"dataframe\">\n",
       "  <thead>\n",
       "    <tr style=\"text-align: right;\">\n",
       "      <th></th>\n",
       "      <th>pickup_datetime</th>\n",
       "      <th>pickup_longitude</th>\n",
       "      <th>pickup_latitude</th>\n",
       "    </tr>\n",
       "  </thead>\n",
       "  <tbody>\n",
       "    <tr>\n",
       "      <th>0</th>\n",
       "      <td> 2013-01-01 15:11:48</td>\n",
       "      <td>-73.978165</td>\n",
       "      <td> 40.757977</td>\n",
       "    </tr>\n",
       "    <tr>\n",
       "      <th>1</th>\n",
       "      <td> 2013-01-06 00:18:35</td>\n",
       "      <td>-74.006683</td>\n",
       "      <td> 40.731781</td>\n",
       "    </tr>\n",
       "    <tr>\n",
       "      <th>2</th>\n",
       "      <td> 2013-01-05 18:49:41</td>\n",
       "      <td>-74.004707</td>\n",
       "      <td> 40.737770</td>\n",
       "    </tr>\n",
       "    <tr>\n",
       "      <th>3</th>\n",
       "      <td> 2013-01-07 23:54:15</td>\n",
       "      <td>-73.974602</td>\n",
       "      <td> 40.759945</td>\n",
       "    </tr>\n",
       "    <tr>\n",
       "      <th>4</th>\n",
       "      <td> 2013-01-07 23:25:03</td>\n",
       "      <td>-73.976250</td>\n",
       "      <td> 40.748528</td>\n",
       "    </tr>\n",
       "  </tbody>\n",
       "</table>\n",
       "</div>"
      ],
      "text/plain": [
       "       pickup_datetime  pickup_longitude  pickup_latitude\n",
       "0  2013-01-01 15:11:48        -73.978165        40.757977\n",
       "1  2013-01-06 00:18:35        -74.006683        40.731781\n",
       "2  2013-01-05 18:49:41        -74.004707        40.737770\n",
       "3  2013-01-07 23:54:15        -73.974602        40.759945\n",
       "4  2013-01-07 23:25:03        -73.976250        40.748528"
      ]
     },
     "execution_count": 3,
     "metadata": {},
     "output_type": "execute_result"
    }
   ],
   "source": [
    "small_df = df[[\"pickup_datetime\", \"pickup_longitude\", \"pickup_latitude\"]]\n",
    "small_df.head()"
   ]
  },
  {
   "cell_type": "code",
   "execution_count": 16,
   "metadata": {
    "collapsed": false
   },
   "outputs": [
    {
     "data": {
      "text/plain": [
       "array([ 178, 1179,  569,  137,  160,  460,   78,   36,   75,  203])"
      ]
     },
     "execution_count": 16,
     "metadata": {},
     "output_type": "execute_result"
    }
   ],
   "source": [
    "num_rows = len(small_df.index)\n",
    "wait_times = np.random.exponential(300, num_rows).astype(int)\n",
    "\n",
    "wait_times[:10]"
   ]
  },
  {
   "cell_type": "code",
   "execution_count": 61,
   "metadata": {
    "collapsed": false
   },
   "outputs": [
    {
     "data": {
      "text/html": [
       "<div style=\"max-height:1000px;max-width:1500px;overflow:auto;\">\n",
       "<table border=\"1\" class=\"dataframe\">\n",
       "  <thead>\n",
       "    <tr style=\"text-align: right;\">\n",
       "      <th></th>\n",
       "      <th>pickup_datetime</th>\n",
       "      <th>longitude</th>\n",
       "      <th>latitude</th>\n",
       "    </tr>\n",
       "  </thead>\n",
       "  <tbody>\n",
       "    <tr>\n",
       "      <th>0</th>\n",
       "      <td> 2013-01-01 15:11:48</td>\n",
       "      <td>-73.978165</td>\n",
       "      <td> 40.757977</td>\n",
       "    </tr>\n",
       "    <tr>\n",
       "      <th>1</th>\n",
       "      <td> 2013-01-06 00:18:35</td>\n",
       "      <td>-74.006683</td>\n",
       "      <td> 40.731781</td>\n",
       "    </tr>\n",
       "    <tr>\n",
       "      <th>2</th>\n",
       "      <td> 2013-01-05 18:49:41</td>\n",
       "      <td>-74.004707</td>\n",
       "      <td> 40.737770</td>\n",
       "    </tr>\n",
       "    <tr>\n",
       "      <th>3</th>\n",
       "      <td> 2013-01-07 23:54:15</td>\n",
       "      <td>-73.974602</td>\n",
       "      <td> 40.759945</td>\n",
       "    </tr>\n",
       "    <tr>\n",
       "      <th>4</th>\n",
       "      <td> 2013-01-07 23:25:03</td>\n",
       "      <td>-73.976250</td>\n",
       "      <td> 40.748528</td>\n",
       "    </tr>\n",
       "  </tbody>\n",
       "</table>\n",
       "</div>"
      ],
      "text/plain": [
       "       pickup_datetime  longitude   latitude\n",
       "0  2013-01-01 15:11:48 -73.978165  40.757977\n",
       "1  2013-01-06 00:18:35 -74.006683  40.731781\n",
       "2  2013-01-05 18:49:41 -74.004707  40.737770\n",
       "3  2013-01-07 23:54:15 -73.974602  40.759945\n",
       "4  2013-01-07 23:25:03 -73.976250  40.748528"
      ]
     },
     "execution_count": 61,
     "metadata": {},
     "output_type": "execute_result"
    }
   ],
   "source": [
    "small_df.columns = ['pickup_datetime', 'longitude', 'latitude']\n",
    "small_df.head()"
   ]
  },
  {
   "cell_type": "code",
   "execution_count": 62,
   "metadata": {
    "collapsed": false
   },
   "outputs": [
    {
     "data": {
      "text/html": [
       "<div style=\"max-height:1000px;max-width:1500px;overflow:auto;\">\n",
       "<table border=\"1\" class=\"dataframe\">\n",
       "  <thead>\n",
       "    <tr style=\"text-align: right;\">\n",
       "      <th></th>\n",
       "      <th>pickup_datetime</th>\n",
       "      <th>longitude</th>\n",
       "      <th>latitude</th>\n",
       "      <th>wait_time</th>\n",
       "    </tr>\n",
       "  </thead>\n",
       "  <tbody>\n",
       "    <tr>\n",
       "      <th>0</th>\n",
       "      <td> 2013-01-01 15:11:48</td>\n",
       "      <td>-73.978165</td>\n",
       "      <td> 40.757977</td>\n",
       "      <td>  178</td>\n",
       "    </tr>\n",
       "    <tr>\n",
       "      <th>1</th>\n",
       "      <td> 2013-01-06 00:18:35</td>\n",
       "      <td>-74.006683</td>\n",
       "      <td> 40.731781</td>\n",
       "      <td> 1179</td>\n",
       "    </tr>\n",
       "    <tr>\n",
       "      <th>2</th>\n",
       "      <td> 2013-01-05 18:49:41</td>\n",
       "      <td>-74.004707</td>\n",
       "      <td> 40.737770</td>\n",
       "      <td>  569</td>\n",
       "    </tr>\n",
       "    <tr>\n",
       "      <th>3</th>\n",
       "      <td> 2013-01-07 23:54:15</td>\n",
       "      <td>-73.974602</td>\n",
       "      <td> 40.759945</td>\n",
       "      <td>  137</td>\n",
       "    </tr>\n",
       "    <tr>\n",
       "      <th>4</th>\n",
       "      <td> 2013-01-07 23:25:03</td>\n",
       "      <td>-73.976250</td>\n",
       "      <td> 40.748528</td>\n",
       "      <td>  160</td>\n",
       "    </tr>\n",
       "  </tbody>\n",
       "</table>\n",
       "</div>"
      ],
      "text/plain": [
       "       pickup_datetime  longitude   latitude  wait_time\n",
       "0  2013-01-01 15:11:48 -73.978165  40.757977        178\n",
       "1  2013-01-06 00:18:35 -74.006683  40.731781       1179\n",
       "2  2013-01-05 18:49:41 -74.004707  40.737770        569\n",
       "3  2013-01-07 23:54:15 -73.974602  40.759945        137\n",
       "4  2013-01-07 23:25:03 -73.976250  40.748528        160"
      ]
     },
     "execution_count": 62,
     "metadata": {},
     "output_type": "execute_result"
    }
   ],
   "source": [
    "df_wait_times = pd.DataFrame({\"wait_time\": wait_times})\n",
    "df_merged = pd.concat([small_df, df_wait_times], axis=1)\n",
    "\n",
    "df_merged.head()"
   ]
  },
  {
   "cell_type": "code",
   "execution_count": 63,
   "metadata": {
    "collapsed": false
   },
   "outputs": [
    {
     "data": {
      "text/html": [
       "<div style=\"max-height:1000px;max-width:1500px;overflow:auto;\">\n",
       "<table border=\"1\" class=\"dataframe\">\n",
       "  <thead>\n",
       "    <tr style=\"text-align: right;\">\n",
       "      <th></th>\n",
       "      <th>pickup_datetime</th>\n",
       "      <th>longitude</th>\n",
       "      <th>latitude</th>\n",
       "      <th>wait_time</th>\n",
       "    </tr>\n",
       "  </thead>\n",
       "  <tbody>\n",
       "    <tr>\n",
       "      <th>0</th>\n",
       "      <td>2013-01-01 15:11:48</td>\n",
       "      <td>-73.978165</td>\n",
       "      <td> 40.757977</td>\n",
       "      <td>  178</td>\n",
       "    </tr>\n",
       "    <tr>\n",
       "      <th>1</th>\n",
       "      <td>2013-01-06 00:18:35</td>\n",
       "      <td>-74.006683</td>\n",
       "      <td> 40.731781</td>\n",
       "      <td> 1179</td>\n",
       "    </tr>\n",
       "    <tr>\n",
       "      <th>2</th>\n",
       "      <td>2013-01-05 18:49:41</td>\n",
       "      <td>-74.004707</td>\n",
       "      <td> 40.737770</td>\n",
       "      <td>  569</td>\n",
       "    </tr>\n",
       "    <tr>\n",
       "      <th>3</th>\n",
       "      <td>2013-01-07 23:54:15</td>\n",
       "      <td>-73.974602</td>\n",
       "      <td> 40.759945</td>\n",
       "      <td>  137</td>\n",
       "    </tr>\n",
       "    <tr>\n",
       "      <th>4</th>\n",
       "      <td>2013-01-07 23:25:03</td>\n",
       "      <td>-73.976250</td>\n",
       "      <td> 40.748528</td>\n",
       "      <td>  160</td>\n",
       "    </tr>\n",
       "  </tbody>\n",
       "</table>\n",
       "</div>"
      ],
      "text/plain": [
       "      pickup_datetime  longitude   latitude  wait_time\n",
       "0 2013-01-01 15:11:48 -73.978165  40.757977        178\n",
       "1 2013-01-06 00:18:35 -74.006683  40.731781       1179\n",
       "2 2013-01-05 18:49:41 -74.004707  40.737770        569\n",
       "3 2013-01-07 23:54:15 -73.974602  40.759945        137\n",
       "4 2013-01-07 23:25:03 -73.976250  40.748528        160"
      ]
     },
     "execution_count": 63,
     "metadata": {},
     "output_type": "execute_result"
    }
   ],
   "source": [
    "df_merged['pickup_datetime'] = pd.to_datetime(df_merged['pickup_datetime'])\n",
    "\n",
    "df_merged.head()"
   ]
  },
  {
   "cell_type": "code",
   "execution_count": 64,
   "metadata": {
    "collapsed": false
   },
   "outputs": [
    {
     "data": {
      "text/html": [
       "<div style=\"max-height:1000px;max-width:1500px;overflow:auto;\">\n",
       "<table border=\"1\" class=\"dataframe\">\n",
       "  <thead>\n",
       "    <tr style=\"text-align: right;\">\n",
       "      <th></th>\n",
       "      <th>pickup_datetime</th>\n",
       "      <th>longitude</th>\n",
       "      <th>latitude</th>\n",
       "      <th>wait_time</th>\n",
       "    </tr>\n",
       "  </thead>\n",
       "  <tbody>\n",
       "    <tr>\n",
       "      <th>3</th>\n",
       "      <td>2013-01-07 23:54:15</td>\n",
       "      <td>-73.974602</td>\n",
       "      <td> 40.759945</td>\n",
       "      <td> 137</td>\n",
       "    </tr>\n",
       "    <tr>\n",
       "      <th>4</th>\n",
       "      <td>2013-01-07 23:25:03</td>\n",
       "      <td>-73.976250</td>\n",
       "      <td> 40.748528</td>\n",
       "      <td> 160</td>\n",
       "    </tr>\n",
       "    <tr>\n",
       "      <th>5</th>\n",
       "      <td>2013-01-07 15:27:48</td>\n",
       "      <td>-73.966743</td>\n",
       "      <td> 40.764252</td>\n",
       "      <td> 460</td>\n",
       "    </tr>\n",
       "    <tr>\n",
       "      <th>7</th>\n",
       "      <td>2013-01-07 12:39:18</td>\n",
       "      <td>-73.989937</td>\n",
       "      <td> 40.756775</td>\n",
       "      <td>  36</td>\n",
       "    </tr>\n",
       "    <tr>\n",
       "      <th>8</th>\n",
       "      <td>2013-01-07 18:15:47</td>\n",
       "      <td>-73.980072</td>\n",
       "      <td> 40.743137</td>\n",
       "      <td>  75</td>\n",
       "    </tr>\n",
       "  </tbody>\n",
       "</table>\n",
       "</div>"
      ],
      "text/plain": [
       "      pickup_datetime  longitude   latitude  wait_time\n",
       "3 2013-01-07 23:54:15 -73.974602  40.759945        137\n",
       "4 2013-01-07 23:25:03 -73.976250  40.748528        160\n",
       "5 2013-01-07 15:27:48 -73.966743  40.764252        460\n",
       "7 2013-01-07 12:39:18 -73.989937  40.756775         36\n",
       "8 2013-01-07 18:15:47 -73.980072  40.743137         75"
      ]
     },
     "execution_count": 64,
     "metadata": {},
     "output_type": "execute_result"
    }
   ],
   "source": [
    "df_single_day = df_merged[('2013-01-07' < df_merged['pickup_datetime']) & ('2013-01-08' > df_merged['pickup_datetime'])]\n",
    "\n",
    "df_single_day.head()"
   ]
  },
  {
   "cell_type": "code",
   "execution_count": 65,
   "metadata": {
    "collapsed": false
   },
   "outputs": [
    {
     "name": "stderr",
     "output_type": "stream",
     "text": [
      "/usr/local/lib/python2.7/site-packages/IPython/kernel/__main__.py:1: SettingWithCopyWarning: \n",
      "A value is trying to be set on a copy of a slice from a DataFrame.\n",
      "Try using .loc[row_indexer,col_indexer] = value instead\n",
      "\n",
      "See the the caveats in the documentation: http://pandas.pydata.org/pandas-docs/stable/indexing.html#indexing-view-versus-copy\n",
      "  if __name__ == '__main__':\n"
     ]
    },
    {
     "data": {
      "text/html": [
       "<div style=\"max-height:1000px;max-width:1500px;overflow:auto;\">\n",
       "<table border=\"1\" class=\"dataframe\">\n",
       "  <thead>\n",
       "    <tr style=\"text-align: right;\">\n",
       "      <th></th>\n",
       "      <th>pickup_datetime</th>\n",
       "      <th>longitude</th>\n",
       "      <th>latitude</th>\n",
       "      <th>wait_time</th>\n",
       "      <th>request_datetime</th>\n",
       "    </tr>\n",
       "  </thead>\n",
       "  <tbody>\n",
       "    <tr>\n",
       "      <th>3</th>\n",
       "      <td>2013-01-07 23:54:15</td>\n",
       "      <td>-73.974602</td>\n",
       "      <td> 40.759945</td>\n",
       "      <td> 137</td>\n",
       "      <td>2013-01-07 23:51:58</td>\n",
       "    </tr>\n",
       "    <tr>\n",
       "      <th>4</th>\n",
       "      <td>2013-01-07 23:25:03</td>\n",
       "      <td>-73.976250</td>\n",
       "      <td> 40.748528</td>\n",
       "      <td> 160</td>\n",
       "      <td>2013-01-07 23:22:23</td>\n",
       "    </tr>\n",
       "    <tr>\n",
       "      <th>5</th>\n",
       "      <td>2013-01-07 15:27:48</td>\n",
       "      <td>-73.966743</td>\n",
       "      <td> 40.764252</td>\n",
       "      <td> 460</td>\n",
       "      <td>2013-01-07 15:20:08</td>\n",
       "    </tr>\n",
       "    <tr>\n",
       "      <th>7</th>\n",
       "      <td>2013-01-07 12:39:18</td>\n",
       "      <td>-73.989937</td>\n",
       "      <td> 40.756775</td>\n",
       "      <td>  36</td>\n",
       "      <td>2013-01-07 12:38:42</td>\n",
       "    </tr>\n",
       "    <tr>\n",
       "      <th>8</th>\n",
       "      <td>2013-01-07 18:15:47</td>\n",
       "      <td>-73.980072</td>\n",
       "      <td> 40.743137</td>\n",
       "      <td>  75</td>\n",
       "      <td>2013-01-07 18:14:32</td>\n",
       "    </tr>\n",
       "  </tbody>\n",
       "</table>\n",
       "</div>"
      ],
      "text/plain": [
       "      pickup_datetime  longitude   latitude  wait_time    request_datetime\n",
       "3 2013-01-07 23:54:15 -73.974602  40.759945        137 2013-01-07 23:51:58\n",
       "4 2013-01-07 23:25:03 -73.976250  40.748528        160 2013-01-07 23:22:23\n",
       "5 2013-01-07 15:27:48 -73.966743  40.764252        460 2013-01-07 15:20:08\n",
       "7 2013-01-07 12:39:18 -73.989937  40.756775         36 2013-01-07 12:38:42\n",
       "8 2013-01-07 18:15:47 -73.980072  40.743137         75 2013-01-07 18:14:32"
      ]
     },
     "execution_count": 65,
     "metadata": {},
     "output_type": "execute_result"
    }
   ],
   "source": [
    "df_single_day['request_datetime'] = df_single_day['pickup_datetime'] - df_single_day['wait_time'].astype('timedelta64[s]')\n",
    "\n",
    "df_single_day.head()"
   ]
  },
  {
   "cell_type": "code",
   "execution_count": 67,
   "metadata": {
    "collapsed": false
   },
   "outputs": [
    {
     "data": {
      "text/html": [
       "<div style=\"max-height:1000px;max-width:1500px;overflow:auto;\">\n",
       "<table border=\"1\" class=\"dataframe\">\n",
       "  <thead>\n",
       "    <tr style=\"text-align: right;\">\n",
       "      <th></th>\n",
       "      <th>pickup_datetime</th>\n",
       "      <th>longitude</th>\n",
       "      <th>latitude</th>\n",
       "      <th>wait_time</th>\n",
       "      <th>request_datetime</th>\n",
       "    </tr>\n",
       "  </thead>\n",
       "  <tbody>\n",
       "    <tr>\n",
       "      <th>0</th>\n",
       "      <td>2013-01-07 00:06:08</td>\n",
       "      <td>-73.788048</td>\n",
       "      <td> 40.649975</td>\n",
       "      <td> 2531</td>\n",
       "      <td>2013-01-06 23:23:57</td>\n",
       "    </tr>\n",
       "    <tr>\n",
       "      <th>1</th>\n",
       "      <td>2013-01-07 00:04:36</td>\n",
       "      <td>-73.959885</td>\n",
       "      <td> 40.782265</td>\n",
       "      <td> 2334</td>\n",
       "      <td>2013-01-06 23:25:42</td>\n",
       "    </tr>\n",
       "    <tr>\n",
       "      <th>2</th>\n",
       "      <td>2013-01-07 00:01:00</td>\n",
       "      <td>-73.934456</td>\n",
       "      <td> 40.801556</td>\n",
       "      <td> 1814</td>\n",
       "      <td>2013-01-06 23:30:46</td>\n",
       "    </tr>\n",
       "    <tr>\n",
       "      <th>3</th>\n",
       "      <td>2013-01-07 00:04:51</td>\n",
       "      <td>-73.994400</td>\n",
       "      <td> 40.750820</td>\n",
       "      <td> 1994</td>\n",
       "      <td>2013-01-06 23:31:37</td>\n",
       "    </tr>\n",
       "    <tr>\n",
       "      <th>4</th>\n",
       "      <td>2013-01-07 00:16:00</td>\n",
       "      <td>-73.980652</td>\n",
       "      <td> 40.733898</td>\n",
       "      <td> 2662</td>\n",
       "      <td>2013-01-06 23:31:38</td>\n",
       "    </tr>\n",
       "  </tbody>\n",
       "</table>\n",
       "</div>"
      ],
      "text/plain": [
       "      pickup_datetime  longitude   latitude  wait_time    request_datetime\n",
       "0 2013-01-07 00:06:08 -73.788048  40.649975       2531 2013-01-06 23:23:57\n",
       "1 2013-01-07 00:04:36 -73.959885  40.782265       2334 2013-01-06 23:25:42\n",
       "2 2013-01-07 00:01:00 -73.934456  40.801556       1814 2013-01-06 23:30:46\n",
       "3 2013-01-07 00:04:51 -73.994400  40.750820       1994 2013-01-06 23:31:37\n",
       "4 2013-01-07 00:16:00 -73.980652  40.733898       2662 2013-01-06 23:31:38"
      ]
     },
     "execution_count": 67,
     "metadata": {},
     "output_type": "execute_result"
    }
   ],
   "source": [
    "df_reindex = df_single_day.sort('request_datetime')\n",
    "df_reindex = df_reindex.reset_index().drop('index', 1)\n",
    "\n",
    "df_reindex.head()"
   ]
  },
  {
   "cell_type": "code",
   "execution_count": 69,
   "metadata": {
    "collapsed": false
   },
   "outputs": [
    {
     "data": {
      "text/html": [
       "<div style=\"max-height:1000px;max-width:1500px;overflow:auto;\">\n",
       "<table border=\"1\" class=\"dataframe\">\n",
       "  <thead>\n",
       "    <tr style=\"text-align: right;\">\n",
       "      <th></th>\n",
       "      <th>request_datetime</th>\n",
       "      <th>longitude</th>\n",
       "      <th>latitude</th>\n",
       "      <th>wait_time</th>\n",
       "    </tr>\n",
       "  </thead>\n",
       "  <tbody>\n",
       "    <tr>\n",
       "      <th>0</th>\n",
       "      <td>2013-01-06 23:23:57</td>\n",
       "      <td>-73.788048</td>\n",
       "      <td> 40.649975</td>\n",
       "      <td> 2531</td>\n",
       "    </tr>\n",
       "    <tr>\n",
       "      <th>1</th>\n",
       "      <td>2013-01-06 23:25:42</td>\n",
       "      <td>-73.959885</td>\n",
       "      <td> 40.782265</td>\n",
       "      <td> 2334</td>\n",
       "    </tr>\n",
       "    <tr>\n",
       "      <th>2</th>\n",
       "      <td>2013-01-06 23:30:46</td>\n",
       "      <td>-73.934456</td>\n",
       "      <td> 40.801556</td>\n",
       "      <td> 1814</td>\n",
       "    </tr>\n",
       "    <tr>\n",
       "      <th>3</th>\n",
       "      <td>2013-01-06 23:31:37</td>\n",
       "      <td>-73.994400</td>\n",
       "      <td> 40.750820</td>\n",
       "      <td> 1994</td>\n",
       "    </tr>\n",
       "    <tr>\n",
       "      <th>4</th>\n",
       "      <td>2013-01-06 23:31:38</td>\n",
       "      <td>-73.980652</td>\n",
       "      <td> 40.733898</td>\n",
       "      <td> 2662</td>\n",
       "    </tr>\n",
       "  </tbody>\n",
       "</table>\n",
       "</div>"
      ],
      "text/plain": [
       "     request_datetime  longitude   latitude  wait_time\n",
       "0 2013-01-06 23:23:57 -73.788048  40.649975       2531\n",
       "1 2013-01-06 23:25:42 -73.959885  40.782265       2334\n",
       "2 2013-01-06 23:30:46 -73.934456  40.801556       1814\n",
       "3 2013-01-06 23:31:37 -73.994400  40.750820       1994\n",
       "4 2013-01-06 23:31:38 -73.980652  40.733898       2662"
      ]
     },
     "execution_count": 69,
     "metadata": {},
     "output_type": "execute_result"
    }
   ],
   "source": [
    "df_request = df_reindex[['request_datetime', 'longitude', 'latitude', 'wait_time']]\n",
    "\n",
    "df_request.head()"
   ]
  },
  {
   "cell_type": "code",
   "execution_count": 75,
   "metadata": {
    "collapsed": false
   },
   "outputs": [
    {
     "data": {
      "text/html": [
       "<div style=\"max-height:1000px;max-width:1500px;overflow:auto;\">\n",
       "<table border=\"1\" class=\"dataframe\">\n",
       "  <thead>\n",
       "    <tr style=\"text-align: right;\">\n",
       "      <th></th>\n",
       "      <th>pickup_datetime</th>\n",
       "      <th>longitude</th>\n",
       "      <th>latitude</th>\n",
       "      <th>wait_time</th>\n",
       "    </tr>\n",
       "  </thead>\n",
       "  <tbody>\n",
       "    <tr>\n",
       "      <th>371</th>\n",
       "      <td>2013-01-07 00:00:01</td>\n",
       "      <td>-74.001038</td>\n",
       "      <td> 40.746243</td>\n",
       "      <td> 216</td>\n",
       "    </tr>\n",
       "    <tr>\n",
       "      <th>202</th>\n",
       "      <td>2013-01-07 00:00:01</td>\n",
       "      <td>-73.968872</td>\n",
       "      <td> 40.798531</td>\n",
       "      <td> 389</td>\n",
       "    </tr>\n",
       "    <tr>\n",
       "      <th>569</th>\n",
       "      <td>2013-01-07 00:00:04</td>\n",
       "      <td>-73.969986</td>\n",
       "      <td> 40.753120</td>\n",
       "      <td>  86</td>\n",
       "    </tr>\n",
       "    <tr>\n",
       "      <th>634</th>\n",
       "      <td>2013-01-07 00:00:04</td>\n",
       "      <td>-73.956818</td>\n",
       "      <td> 40.771019</td>\n",
       "      <td>  56</td>\n",
       "    </tr>\n",
       "    <tr>\n",
       "      <th>562</th>\n",
       "      <td>2013-01-07 00:00:04</td>\n",
       "      <td>-73.974541</td>\n",
       "      <td> 40.732578</td>\n",
       "      <td>  88</td>\n",
       "    </tr>\n",
       "  </tbody>\n",
       "</table>\n",
       "</div>"
      ],
      "text/plain": [
       "        pickup_datetime  longitude   latitude  wait_time\n",
       "371 2013-01-07 00:00:01 -74.001038  40.746243        216\n",
       "202 2013-01-07 00:00:01 -73.968872  40.798531        389\n",
       "569 2013-01-07 00:00:04 -73.969986  40.753120         86\n",
       "634 2013-01-07 00:00:04 -73.956818  40.771019         56\n",
       "562 2013-01-07 00:00:04 -73.974541  40.732578         88"
      ]
     },
     "execution_count": 75,
     "metadata": {},
     "output_type": "execute_result"
    }
   ],
   "source": [
    "df_pickup = df_reindex[['pickup_datetime', 'longitude', 'latitude', 'wait_time']].sort('pickup_datetime')\n",
    "\n",
    "df_pickup.head()"
   ]
  },
  {
   "cell_type": "code",
   "execution_count": 73,
   "metadata": {
    "collapsed": true
   },
   "outputs": [],
   "source": [
    "df_request.to_csv('monday-request.csv')"
   ]
  },
  {
   "cell_type": "code",
   "execution_count": 76,
   "metadata": {
    "collapsed": true
   },
   "outputs": [],
   "source": [
    "df_pickup.to_csv('monday-pickup.csv')"
   ]
  },
  {
   "cell_type": "code",
   "execution_count": null,
   "metadata": {
    "collapsed": true
   },
   "outputs": [],
   "source": []
  }
 ],
 "metadata": {
  "kernelspec": {
   "display_name": "Python 2",
   "language": "python",
   "name": "python2"
  },
  "language_info": {
   "codemirror_mode": {
    "name": "ipython",
    "version": 2
   },
   "file_extension": ".py",
   "mimetype": "text/x-python",
   "name": "python",
   "nbconvert_exporter": "python",
   "pygments_lexer": "ipython2",
   "version": "2.7.9"
  }
 },
 "nbformat": 4,
 "nbformat_minor": 0
}
