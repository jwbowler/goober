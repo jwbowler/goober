{
 "cells": [
  {
   "cell_type": "code",
   "execution_count": 2,
   "metadata": {
    "collapsed": false
   },
   "outputs": [
    {
     "data": {
      "text/html": [
       "<div style=\"max-height:1000px;max-width:1500px;overflow:auto;\">\n",
       "<table border=\"1\" class=\"dataframe\">\n",
       "  <thead>\n",
       "    <tr style=\"text-align: right;\">\n",
       "      <th></th>\n",
       "      <th>ride_id</th>\n",
       "      <th>timestamp</th>\n",
       "      <th>longitude</th>\n",
       "      <th>latitude</th>\n",
       "      <th>wait_time</th>\n",
       "    </tr>\n",
       "  </thead>\n",
       "  <tbody>\n",
       "    <tr>\n",
       "      <th>0</th>\n",
       "      <td> 0</td>\n",
       "      <td> 2013-01-06 23:23:59</td>\n",
       "      <td>-73.788048</td>\n",
       "      <td> 40.649975</td>\n",
       "      <td> 2529</td>\n",
       "    </tr>\n",
       "    <tr>\n",
       "      <th>1</th>\n",
       "      <td> 0</td>\n",
       "      <td> 2013-01-06 23:24:01</td>\n",
       "      <td>-73.788048</td>\n",
       "      <td> 40.649975</td>\n",
       "      <td> 2527</td>\n",
       "    </tr>\n",
       "    <tr>\n",
       "      <th>2</th>\n",
       "      <td> 0</td>\n",
       "      <td> 2013-01-06 23:24:03</td>\n",
       "      <td>-73.788048</td>\n",
       "      <td> 40.649975</td>\n",
       "      <td> 2525</td>\n",
       "    </tr>\n",
       "    <tr>\n",
       "      <th>3</th>\n",
       "      <td> 0</td>\n",
       "      <td> 2013-01-06 23:24:05</td>\n",
       "      <td>-73.788048</td>\n",
       "      <td> 40.649975</td>\n",
       "      <td> 2523</td>\n",
       "    </tr>\n",
       "    <tr>\n",
       "      <th>4</th>\n",
       "      <td> 0</td>\n",
       "      <td> 2013-01-06 23:24:07</td>\n",
       "      <td>-73.788048</td>\n",
       "      <td> 40.649975</td>\n",
       "      <td> 2521</td>\n",
       "    </tr>\n",
       "  </tbody>\n",
       "</table>\n",
       "</div>"
      ],
      "text/plain": [
       "   ride_id            timestamp  longitude   latitude  wait_time\n",
       "0        0  2013-01-06 23:23:59 -73.788048  40.649975       2529\n",
       "1        0  2013-01-06 23:24:01 -73.788048  40.649975       2527\n",
       "2        0  2013-01-06 23:24:03 -73.788048  40.649975       2525\n",
       "3        0  2013-01-06 23:24:05 -73.788048  40.649975       2523\n",
       "4        0  2013-01-06 23:24:07 -73.788048  40.649975       2521"
      ]
     },
     "execution_count": 2,
     "metadata": {},
     "output_type": "execute_result"
    }
   ],
   "source": [
    "import numpy as np\n",
    "import pandas as pd\n",
    "\n",
    "df_eta = pd.read_csv('monday-eta.csv', header=None, names=['ride_id', 'timestamp', 'longitude', 'latitude', 'wait_time'])\n",
    "\n",
    "df_eta.head()"
   ]
  },
  {
   "cell_type": "code",
   "execution_count": 3,
   "metadata": {
    "collapsed": false
   },
   "outputs": [
    {
     "data": {
      "text/html": [
       "<div style=\"max-height:1000px;max-width:1500px;overflow:auto;\">\n",
       "<table border=\"1\" class=\"dataframe\">\n",
       "  <thead>\n",
       "    <tr style=\"text-align: right;\">\n",
       "      <th></th>\n",
       "      <th>ride_id</th>\n",
       "      <th>timestamp</th>\n",
       "      <th>longitude</th>\n",
       "      <th>latitude</th>\n",
       "      <th>wait_time</th>\n",
       "    </tr>\n",
       "  </thead>\n",
       "  <tbody>\n",
       "    <tr>\n",
       "      <th>0</th>\n",
       "      <td> 0</td>\n",
       "      <td> 2013-01-06 23:23:57</td>\n",
       "      <td>-73.788048</td>\n",
       "      <td> 40.649975</td>\n",
       "      <td> 2531</td>\n",
       "    </tr>\n",
       "    <tr>\n",
       "      <th>1</th>\n",
       "      <td> 1</td>\n",
       "      <td> 2013-01-06 23:25:42</td>\n",
       "      <td>-73.959885</td>\n",
       "      <td> 40.782265</td>\n",
       "      <td> 2334</td>\n",
       "    </tr>\n",
       "    <tr>\n",
       "      <th>2</th>\n",
       "      <td> 2</td>\n",
       "      <td> 2013-01-06 23:30:46</td>\n",
       "      <td>-73.934456</td>\n",
       "      <td> 40.801556</td>\n",
       "      <td> 1814</td>\n",
       "    </tr>\n",
       "    <tr>\n",
       "      <th>3</th>\n",
       "      <td> 3</td>\n",
       "      <td> 2013-01-06 23:31:37</td>\n",
       "      <td>-73.994400</td>\n",
       "      <td> 40.750820</td>\n",
       "      <td> 1994</td>\n",
       "    </tr>\n",
       "    <tr>\n",
       "      <th>4</th>\n",
       "      <td> 4</td>\n",
       "      <td> 2013-01-06 23:31:38</td>\n",
       "      <td>-73.980652</td>\n",
       "      <td> 40.733898</td>\n",
       "      <td> 2662</td>\n",
       "    </tr>\n",
       "  </tbody>\n",
       "</table>\n",
       "</div>"
      ],
      "text/plain": [
       "   ride_id            timestamp  longitude   latitude  wait_time\n",
       "0        0  2013-01-06 23:23:57 -73.788048  40.649975       2531\n",
       "1        1  2013-01-06 23:25:42 -73.959885  40.782265       2334\n",
       "2        2  2013-01-06 23:30:46 -73.934456  40.801556       1814\n",
       "3        3  2013-01-06 23:31:37 -73.994400  40.750820       1994\n",
       "4        4  2013-01-06 23:31:38 -73.980652  40.733898       2662"
      ]
     },
     "execution_count": 3,
     "metadata": {},
     "output_type": "execute_result"
    }
   ],
   "source": [
    "df_req = pd.read_csv('monday-request.csv', header=None, names=['ride_id', 'timestamp', 'longitude', 'latitude', 'wait_time'])\n",
    "\n",
    "df_req.head()"
   ]
  },
  {
   "cell_type": "code",
   "execution_count": 4,
   "metadata": {
    "collapsed": false
   },
   "outputs": [
    {
     "data": {
      "text/html": [
       "<div style=\"max-height:1000px;max-width:1500px;overflow:auto;\">\n",
       "<table border=\"1\" class=\"dataframe\">\n",
       "  <thead>\n",
       "    <tr style=\"text-align: right;\">\n",
       "      <th></th>\n",
       "      <th>ride_id</th>\n",
       "      <th>timestamp</th>\n",
       "      <th>longitude</th>\n",
       "      <th>latitude</th>\n",
       "      <th>wait_time</th>\n",
       "    </tr>\n",
       "  </thead>\n",
       "  <tbody>\n",
       "    <tr>\n",
       "      <th>0</th>\n",
       "      <td> 0</td>\n",
       "      <td> 2013-01-06 23:23:59</td>\n",
       "      <td>-73.788048</td>\n",
       "      <td> 40.649975</td>\n",
       "      <td> 2529</td>\n",
       "    </tr>\n",
       "    <tr>\n",
       "      <th>1</th>\n",
       "      <td> 0</td>\n",
       "      <td> 2013-01-06 23:24:01</td>\n",
       "      <td>-73.788048</td>\n",
       "      <td> 40.649975</td>\n",
       "      <td> 2527</td>\n",
       "    </tr>\n",
       "    <tr>\n",
       "      <th>2</th>\n",
       "      <td> 0</td>\n",
       "      <td> 2013-01-06 23:24:03</td>\n",
       "      <td>-73.788048</td>\n",
       "      <td> 40.649975</td>\n",
       "      <td> 2525</td>\n",
       "    </tr>\n",
       "    <tr>\n",
       "      <th>3</th>\n",
       "      <td> 0</td>\n",
       "      <td> 2013-01-06 23:24:05</td>\n",
       "      <td>-73.788048</td>\n",
       "      <td> 40.649975</td>\n",
       "      <td> 2523</td>\n",
       "    </tr>\n",
       "    <tr>\n",
       "      <th>4</th>\n",
       "      <td> 0</td>\n",
       "      <td> 2013-01-06 23:24:07</td>\n",
       "      <td>-73.788048</td>\n",
       "      <td> 40.649975</td>\n",
       "      <td> 2521</td>\n",
       "    </tr>\n",
       "  </tbody>\n",
       "</table>\n",
       "</div>"
      ],
      "text/plain": [
       "   ride_id            timestamp  longitude   latitude  wait_time\n",
       "0        0  2013-01-06 23:23:59 -73.788048  40.649975       2529\n",
       "1        0  2013-01-06 23:24:01 -73.788048  40.649975       2527\n",
       "2        0  2013-01-06 23:24:03 -73.788048  40.649975       2525\n",
       "3        0  2013-01-06 23:24:05 -73.788048  40.649975       2523\n",
       "4        0  2013-01-06 23:24:07 -73.788048  40.649975       2521"
      ]
     },
     "execution_count": 4,
     "metadata": {},
     "output_type": "execute_result"
    }
   ],
   "source": [
    "df_pkp = pd.read_csv('monday-pickup.csv', header=None, names=['ride_id', 'timestamp', 'longitude', 'latitude', 'wait_time'])\n",
    "\n",
    "df_eta.head()"
   ]
  },
  {
   "cell_type": "code",
   "execution_count": 5,
   "metadata": {
    "collapsed": false
   },
   "outputs": [
    {
     "data": {
      "text/html": [
       "<div style=\"max-height:1000px;max-width:1500px;overflow:auto;\">\n",
       "<table border=\"1\" class=\"dataframe\">\n",
       "  <thead>\n",
       "    <tr style=\"text-align: right;\">\n",
       "      <th></th>\n",
       "      <th>ride_id</th>\n",
       "      <th>timestamp</th>\n",
       "      <th>longitude</th>\n",
       "      <th>latitude</th>\n",
       "      <th>wait_time</th>\n",
       "      <th>msg_type</th>\n",
       "    </tr>\n",
       "  </thead>\n",
       "  <tbody>\n",
       "    <tr>\n",
       "      <th>0</th>\n",
       "      <td> 0</td>\n",
       "      <td> 2013-01-06 23:23:59</td>\n",
       "      <td>-73.788048</td>\n",
       "      <td> 40.649975</td>\n",
       "      <td> 2529</td>\n",
       "      <td> ETA</td>\n",
       "    </tr>\n",
       "    <tr>\n",
       "      <th>1</th>\n",
       "      <td> 0</td>\n",
       "      <td> 2013-01-06 23:24:01</td>\n",
       "      <td>-73.788048</td>\n",
       "      <td> 40.649975</td>\n",
       "      <td> 2527</td>\n",
       "      <td> ETA</td>\n",
       "    </tr>\n",
       "    <tr>\n",
       "      <th>2</th>\n",
       "      <td> 0</td>\n",
       "      <td> 2013-01-06 23:24:03</td>\n",
       "      <td>-73.788048</td>\n",
       "      <td> 40.649975</td>\n",
       "      <td> 2525</td>\n",
       "      <td> ETA</td>\n",
       "    </tr>\n",
       "    <tr>\n",
       "      <th>3</th>\n",
       "      <td> 0</td>\n",
       "      <td> 2013-01-06 23:24:05</td>\n",
       "      <td>-73.788048</td>\n",
       "      <td> 40.649975</td>\n",
       "      <td> 2523</td>\n",
       "      <td> ETA</td>\n",
       "    </tr>\n",
       "    <tr>\n",
       "      <th>4</th>\n",
       "      <td> 0</td>\n",
       "      <td> 2013-01-06 23:24:07</td>\n",
       "      <td>-73.788048</td>\n",
       "      <td> 40.649975</td>\n",
       "      <td> 2521</td>\n",
       "      <td> ETA</td>\n",
       "    </tr>\n",
       "  </tbody>\n",
       "</table>\n",
       "</div>"
      ],
      "text/plain": [
       "   ride_id            timestamp  longitude   latitude  wait_time msg_type\n",
       "0        0  2013-01-06 23:23:59 -73.788048  40.649975       2529      ETA\n",
       "1        0  2013-01-06 23:24:01 -73.788048  40.649975       2527      ETA\n",
       "2        0  2013-01-06 23:24:03 -73.788048  40.649975       2525      ETA\n",
       "3        0  2013-01-06 23:24:05 -73.788048  40.649975       2523      ETA\n",
       "4        0  2013-01-06 23:24:07 -73.788048  40.649975       2521      ETA"
      ]
     },
     "execution_count": 5,
     "metadata": {},
     "output_type": "execute_result"
    }
   ],
   "source": [
    "df_eta_labeled = df_eta\n",
    "size = df_eta_labeled.shape[0]\n",
    "\n",
    "df_eta_labeled['msg_type'] = pd.Series([\"ETA\"] * size)\n",
    "\n",
    "df_eta_labeled.head()"
   ]
  },
  {
   "cell_type": "code",
   "execution_count": 6,
   "metadata": {
    "collapsed": false
   },
   "outputs": [
    {
     "data": {
      "text/html": [
       "<div style=\"max-height:1000px;max-width:1500px;overflow:auto;\">\n",
       "<table border=\"1\" class=\"dataframe\">\n",
       "  <thead>\n",
       "    <tr style=\"text-align: right;\">\n",
       "      <th></th>\n",
       "      <th>ride_id</th>\n",
       "      <th>timestamp</th>\n",
       "      <th>longitude</th>\n",
       "      <th>latitude</th>\n",
       "      <th>wait_time</th>\n",
       "      <th>msg_type</th>\n",
       "    </tr>\n",
       "  </thead>\n",
       "  <tbody>\n",
       "    <tr>\n",
       "      <th>0</th>\n",
       "      <td> 0</td>\n",
       "      <td> 2013-01-06 23:23:57</td>\n",
       "      <td>-73.788048</td>\n",
       "      <td> 40.649975</td>\n",
       "      <td> 2531</td>\n",
       "      <td> REQ</td>\n",
       "    </tr>\n",
       "    <tr>\n",
       "      <th>1</th>\n",
       "      <td> 1</td>\n",
       "      <td> 2013-01-06 23:25:42</td>\n",
       "      <td>-73.959885</td>\n",
       "      <td> 40.782265</td>\n",
       "      <td> 2334</td>\n",
       "      <td> REQ</td>\n",
       "    </tr>\n",
       "    <tr>\n",
       "      <th>2</th>\n",
       "      <td> 2</td>\n",
       "      <td> 2013-01-06 23:30:46</td>\n",
       "      <td>-73.934456</td>\n",
       "      <td> 40.801556</td>\n",
       "      <td> 1814</td>\n",
       "      <td> REQ</td>\n",
       "    </tr>\n",
       "    <tr>\n",
       "      <th>3</th>\n",
       "      <td> 3</td>\n",
       "      <td> 2013-01-06 23:31:37</td>\n",
       "      <td>-73.994400</td>\n",
       "      <td> 40.750820</td>\n",
       "      <td> 1994</td>\n",
       "      <td> REQ</td>\n",
       "    </tr>\n",
       "    <tr>\n",
       "      <th>4</th>\n",
       "      <td> 4</td>\n",
       "      <td> 2013-01-06 23:31:38</td>\n",
       "      <td>-73.980652</td>\n",
       "      <td> 40.733898</td>\n",
       "      <td> 2662</td>\n",
       "      <td> REQ</td>\n",
       "    </tr>\n",
       "  </tbody>\n",
       "</table>\n",
       "</div>"
      ],
      "text/plain": [
       "   ride_id            timestamp  longitude   latitude  wait_time msg_type\n",
       "0        0  2013-01-06 23:23:57 -73.788048  40.649975       2531      REQ\n",
       "1        1  2013-01-06 23:25:42 -73.959885  40.782265       2334      REQ\n",
       "2        2  2013-01-06 23:30:46 -73.934456  40.801556       1814      REQ\n",
       "3        3  2013-01-06 23:31:37 -73.994400  40.750820       1994      REQ\n",
       "4        4  2013-01-06 23:31:38 -73.980652  40.733898       2662      REQ"
      ]
     },
     "execution_count": 6,
     "metadata": {},
     "output_type": "execute_result"
    }
   ],
   "source": [
    "size = df_req.shape[0]\n",
    "df_req['msg_type'] = pd.Series([\"REQ\"] * size)\n",
    "df_req.head()"
   ]
  },
  {
   "cell_type": "code",
   "execution_count": 7,
   "metadata": {
    "collapsed": false
   },
   "outputs": [
    {
     "data": {
      "text/html": [
       "<div style=\"max-height:1000px;max-width:1500px;overflow:auto;\">\n",
       "<table border=\"1\" class=\"dataframe\">\n",
       "  <thead>\n",
       "    <tr style=\"text-align: right;\">\n",
       "      <th></th>\n",
       "      <th>ride_id</th>\n",
       "      <th>timestamp</th>\n",
       "      <th>longitude</th>\n",
       "      <th>latitude</th>\n",
       "      <th>wait_time</th>\n",
       "      <th>msg_type</th>\n",
       "    </tr>\n",
       "  </thead>\n",
       "  <tbody>\n",
       "    <tr>\n",
       "      <th>0</th>\n",
       "      <td> 371</td>\n",
       "      <td> 2013-01-07 00:00:01</td>\n",
       "      <td>-74.001038</td>\n",
       "      <td> 40.746243</td>\n",
       "      <td> 216</td>\n",
       "      <td> PKP</td>\n",
       "    </tr>\n",
       "    <tr>\n",
       "      <th>1</th>\n",
       "      <td> 202</td>\n",
       "      <td> 2013-01-07 00:00:01</td>\n",
       "      <td>-73.968872</td>\n",
       "      <td> 40.798531</td>\n",
       "      <td> 389</td>\n",
       "      <td> PKP</td>\n",
       "    </tr>\n",
       "    <tr>\n",
       "      <th>2</th>\n",
       "      <td> 569</td>\n",
       "      <td> 2013-01-07 00:00:04</td>\n",
       "      <td>-73.969986</td>\n",
       "      <td> 40.753120</td>\n",
       "      <td>  86</td>\n",
       "      <td> PKP</td>\n",
       "    </tr>\n",
       "    <tr>\n",
       "      <th>3</th>\n",
       "      <td> 634</td>\n",
       "      <td> 2013-01-07 00:00:04</td>\n",
       "      <td>-73.956818</td>\n",
       "      <td> 40.771019</td>\n",
       "      <td>  56</td>\n",
       "      <td> PKP</td>\n",
       "    </tr>\n",
       "    <tr>\n",
       "      <th>4</th>\n",
       "      <td> 562</td>\n",
       "      <td> 2013-01-07 00:00:04</td>\n",
       "      <td>-73.974541</td>\n",
       "      <td> 40.732578</td>\n",
       "      <td>  88</td>\n",
       "      <td> PKP</td>\n",
       "    </tr>\n",
       "  </tbody>\n",
       "</table>\n",
       "</div>"
      ],
      "text/plain": [
       "   ride_id            timestamp  longitude   latitude  wait_time msg_type\n",
       "0      371  2013-01-07 00:00:01 -74.001038  40.746243        216      PKP\n",
       "1      202  2013-01-07 00:00:01 -73.968872  40.798531        389      PKP\n",
       "2      569  2013-01-07 00:00:04 -73.969986  40.753120         86      PKP\n",
       "3      634  2013-01-07 00:00:04 -73.956818  40.771019         56      PKP\n",
       "4      562  2013-01-07 00:00:04 -73.974541  40.732578         88      PKP"
      ]
     },
     "execution_count": 7,
     "metadata": {},
     "output_type": "execute_result"
    }
   ],
   "source": [
    "size = df_pkp.shape[0]\n",
    "df_pkp['msg_type'] = pd.Series([\"PKP\"] * size)\n",
    "df_pkp.head()"
   ]
  },
  {
   "cell_type": "code",
   "execution_count": 8,
   "metadata": {
    "collapsed": false
   },
   "outputs": [
    {
     "data": {
      "text/plain": [
       "(407270, 6)"
      ]
     },
     "execution_count": 8,
     "metadata": {},
     "output_type": "execute_result"
    }
   ],
   "source": [
    "df_pkp.shape"
   ]
  },
  {
   "cell_type": "code",
   "execution_count": 9,
   "metadata": {
    "collapsed": false
   },
   "outputs": [
    {
     "data": {
      "text/html": [
       "<div style=\"max-height:1000px;max-width:1500px;overflow:auto;\">\n",
       "<table border=\"1\" class=\"dataframe\">\n",
       "  <thead>\n",
       "    <tr style=\"text-align: right;\">\n",
       "      <th></th>\n",
       "      <th>ride_id</th>\n",
       "      <th>timestamp</th>\n",
       "      <th>longitude</th>\n",
       "      <th>latitude</th>\n",
       "      <th>wait_time</th>\n",
       "      <th>msg_type</th>\n",
       "    </tr>\n",
       "  </thead>\n",
       "  <tbody>\n",
       "    <tr>\n",
       "      <th>0</th>\n",
       "      <td> 0</td>\n",
       "      <td> 2013-01-06 23:23:57</td>\n",
       "      <td>-73.788048</td>\n",
       "      <td> 40.649975</td>\n",
       "      <td> 2531</td>\n",
       "      <td> REQ</td>\n",
       "    </tr>\n",
       "    <tr>\n",
       "      <th>1</th>\n",
       "      <td> 1</td>\n",
       "      <td> 2013-01-06 23:25:42</td>\n",
       "      <td>-73.959885</td>\n",
       "      <td> 40.782265</td>\n",
       "      <td> 2334</td>\n",
       "      <td> REQ</td>\n",
       "    </tr>\n",
       "    <tr>\n",
       "      <th>2</th>\n",
       "      <td> 2</td>\n",
       "      <td> 2013-01-06 23:30:46</td>\n",
       "      <td>-73.934456</td>\n",
       "      <td> 40.801556</td>\n",
       "      <td> 1814</td>\n",
       "      <td> REQ</td>\n",
       "    </tr>\n",
       "    <tr>\n",
       "      <th>3</th>\n",
       "      <td> 3</td>\n",
       "      <td> 2013-01-06 23:31:37</td>\n",
       "      <td>-73.994400</td>\n",
       "      <td> 40.750820</td>\n",
       "      <td> 1994</td>\n",
       "      <td> REQ</td>\n",
       "    </tr>\n",
       "    <tr>\n",
       "      <th>4</th>\n",
       "      <td> 4</td>\n",
       "      <td> 2013-01-06 23:31:38</td>\n",
       "      <td>-73.980652</td>\n",
       "      <td> 40.733898</td>\n",
       "      <td> 2662</td>\n",
       "      <td> REQ</td>\n",
       "    </tr>\n",
       "  </tbody>\n",
       "</table>\n",
       "</div>"
      ],
      "text/plain": [
       "   ride_id            timestamp  longitude   latitude  wait_time msg_type\n",
       "0        0  2013-01-06 23:23:57 -73.788048  40.649975       2531      REQ\n",
       "1        1  2013-01-06 23:25:42 -73.959885  40.782265       2334      REQ\n",
       "2        2  2013-01-06 23:30:46 -73.934456  40.801556       1814      REQ\n",
       "3        3  2013-01-06 23:31:37 -73.994400  40.750820       1994      REQ\n",
       "4        4  2013-01-06 23:31:38 -73.980652  40.733898       2662      REQ"
      ]
     },
     "execution_count": 9,
     "metadata": {},
     "output_type": "execute_result"
    }
   ],
   "source": [
    "df_merged = pd.concat([df_req, df_pkp, df_eta], axis=0)\n",
    "\n",
    "df_merged.head()"
   ]
  },
  {
   "cell_type": "code",
   "execution_count": 10,
   "metadata": {
    "collapsed": false
   },
   "outputs": [
    {
     "data": {
      "text/html": [
       "<div style=\"max-height:1000px;max-width:1500px;overflow:auto;\">\n",
       "<table border=\"1\" class=\"dataframe\">\n",
       "  <thead>\n",
       "    <tr style=\"text-align: right;\">\n",
       "      <th></th>\n",
       "      <th>ride_id</th>\n",
       "      <th>timestamp</th>\n",
       "      <th>longitude</th>\n",
       "      <th>latitude</th>\n",
       "      <th>wait_time</th>\n",
       "      <th>msg_type</th>\n",
       "    </tr>\n",
       "  </thead>\n",
       "  <tbody>\n",
       "    <tr>\n",
       "      <th>0</th>\n",
       "      <td> 0</td>\n",
       "      <td>2013-01-06 23:23:57</td>\n",
       "      <td>-73.788048</td>\n",
       "      <td> 40.649975</td>\n",
       "      <td> 2531</td>\n",
       "      <td> REQ</td>\n",
       "    </tr>\n",
       "    <tr>\n",
       "      <th>1</th>\n",
       "      <td> 1</td>\n",
       "      <td>2013-01-06 23:25:42</td>\n",
       "      <td>-73.959885</td>\n",
       "      <td> 40.782265</td>\n",
       "      <td> 2334</td>\n",
       "      <td> REQ</td>\n",
       "    </tr>\n",
       "    <tr>\n",
       "      <th>2</th>\n",
       "      <td> 2</td>\n",
       "      <td>2013-01-06 23:30:46</td>\n",
       "      <td>-73.934456</td>\n",
       "      <td> 40.801556</td>\n",
       "      <td> 1814</td>\n",
       "      <td> REQ</td>\n",
       "    </tr>\n",
       "    <tr>\n",
       "      <th>3</th>\n",
       "      <td> 3</td>\n",
       "      <td>2013-01-06 23:31:37</td>\n",
       "      <td>-73.994400</td>\n",
       "      <td> 40.750820</td>\n",
       "      <td> 1994</td>\n",
       "      <td> REQ</td>\n",
       "    </tr>\n",
       "    <tr>\n",
       "      <th>4</th>\n",
       "      <td> 4</td>\n",
       "      <td>2013-01-06 23:31:38</td>\n",
       "      <td>-73.980652</td>\n",
       "      <td> 40.733898</td>\n",
       "      <td> 2662</td>\n",
       "      <td> REQ</td>\n",
       "    </tr>\n",
       "  </tbody>\n",
       "</table>\n",
       "</div>"
      ],
      "text/plain": [
       "   ride_id           timestamp  longitude   latitude  wait_time msg_type\n",
       "0        0 2013-01-06 23:23:57 -73.788048  40.649975       2531      REQ\n",
       "1        1 2013-01-06 23:25:42 -73.959885  40.782265       2334      REQ\n",
       "2        2 2013-01-06 23:30:46 -73.934456  40.801556       1814      REQ\n",
       "3        3 2013-01-06 23:31:37 -73.994400  40.750820       1994      REQ\n",
       "4        4 2013-01-06 23:31:38 -73.980652  40.733898       2662      REQ"
      ]
     },
     "execution_count": 10,
     "metadata": {},
     "output_type": "execute_result"
    }
   ],
   "source": [
    "df_merged['timestamp'] = pd.to_datetime(df_merged['timestamp'])\n",
    "\n",
    "df_merged.head()"
   ]
  },
  {
   "cell_type": "code",
   "execution_count": 11,
   "metadata": {
    "collapsed": false
   },
   "outputs": [
    {
     "data": {
      "text/html": [
       "<div style=\"max-height:1000px;max-width:1500px;overflow:auto;\">\n",
       "<table border=\"1\" class=\"dataframe\">\n",
       "  <thead>\n",
       "    <tr style=\"text-align: right;\">\n",
       "      <th></th>\n",
       "      <th>ride_id</th>\n",
       "      <th>timestamp</th>\n",
       "      <th>longitude</th>\n",
       "      <th>latitude</th>\n",
       "      <th>wait_time</th>\n",
       "      <th>msg_type</th>\n",
       "    </tr>\n",
       "  </thead>\n",
       "  <tbody>\n",
       "    <tr>\n",
       "      <th>0</th>\n",
       "      <td> 0</td>\n",
       "      <td>2013-01-06 23:23:57</td>\n",
       "      <td>-73.788048</td>\n",
       "      <td> 40.649975</td>\n",
       "      <td> 2531</td>\n",
       "      <td> REQ</td>\n",
       "    </tr>\n",
       "    <tr>\n",
       "      <th>0</th>\n",
       "      <td> 0</td>\n",
       "      <td>2013-01-06 23:23:59</td>\n",
       "      <td>-73.788048</td>\n",
       "      <td> 40.649975</td>\n",
       "      <td> 2529</td>\n",
       "      <td> ETA</td>\n",
       "    </tr>\n",
       "    <tr>\n",
       "      <th>1</th>\n",
       "      <td> 0</td>\n",
       "      <td>2013-01-06 23:24:01</td>\n",
       "      <td>-73.788048</td>\n",
       "      <td> 40.649975</td>\n",
       "      <td> 2527</td>\n",
       "      <td> ETA</td>\n",
       "    </tr>\n",
       "    <tr>\n",
       "      <th>2</th>\n",
       "      <td> 0</td>\n",
       "      <td>2013-01-06 23:24:03</td>\n",
       "      <td>-73.788048</td>\n",
       "      <td> 40.649975</td>\n",
       "      <td> 2525</td>\n",
       "      <td> ETA</td>\n",
       "    </tr>\n",
       "    <tr>\n",
       "      <th>3</th>\n",
       "      <td> 0</td>\n",
       "      <td>2013-01-06 23:24:05</td>\n",
       "      <td>-73.788048</td>\n",
       "      <td> 40.649975</td>\n",
       "      <td> 2523</td>\n",
       "      <td> ETA</td>\n",
       "    </tr>\n",
       "  </tbody>\n",
       "</table>\n",
       "</div>"
      ],
      "text/plain": [
       "   ride_id           timestamp  longitude   latitude  wait_time msg_type\n",
       "0        0 2013-01-06 23:23:57 -73.788048  40.649975       2531      REQ\n",
       "0        0 2013-01-06 23:23:59 -73.788048  40.649975       2529      ETA\n",
       "1        0 2013-01-06 23:24:01 -73.788048  40.649975       2527      ETA\n",
       "2        0 2013-01-06 23:24:03 -73.788048  40.649975       2525      ETA\n",
       "3        0 2013-01-06 23:24:05 -73.788048  40.649975       2523      ETA"
      ]
     },
     "execution_count": 11,
     "metadata": {},
     "output_type": "execute_result"
    }
   ],
   "source": [
    "df_sorted = df_merged.sort('timestamp')\n",
    "\n",
    "df_sorted.head()"
   ]
  },
  {
   "cell_type": "code",
   "execution_count": 12,
   "metadata": {
    "collapsed": false
   },
   "outputs": [
    {
     "data": {
      "text/html": [
       "<div style=\"max-height:1000px;max-width:1500px;overflow:auto;\">\n",
       "<table border=\"1\" class=\"dataframe\">\n",
       "  <thead>\n",
       "    <tr style=\"text-align: right;\">\n",
       "      <th></th>\n",
       "      <th>ride_id</th>\n",
       "      <th>timestamp</th>\n",
       "      <th>longitude</th>\n",
       "      <th>latitude</th>\n",
       "      <th>wait_time</th>\n",
       "      <th>msg_type</th>\n",
       "    </tr>\n",
       "  </thead>\n",
       "  <tbody>\n",
       "    <tr>\n",
       "      <th>0</th>\n",
       "      <td> 0</td>\n",
       "      <td>2013-01-06 23:23:57</td>\n",
       "      <td>-73.788048</td>\n",
       "      <td> 40.649975</td>\n",
       "      <td> 2531</td>\n",
       "      <td> REQ</td>\n",
       "    </tr>\n",
       "    <tr>\n",
       "      <th>1</th>\n",
       "      <td> 0</td>\n",
       "      <td>2013-01-06 23:23:59</td>\n",
       "      <td>-73.788048</td>\n",
       "      <td> 40.649975</td>\n",
       "      <td> 2529</td>\n",
       "      <td> ETA</td>\n",
       "    </tr>\n",
       "    <tr>\n",
       "      <th>2</th>\n",
       "      <td> 0</td>\n",
       "      <td>2013-01-06 23:24:01</td>\n",
       "      <td>-73.788048</td>\n",
       "      <td> 40.649975</td>\n",
       "      <td> 2527</td>\n",
       "      <td> ETA</td>\n",
       "    </tr>\n",
       "    <tr>\n",
       "      <th>3</th>\n",
       "      <td> 0</td>\n",
       "      <td>2013-01-06 23:24:03</td>\n",
       "      <td>-73.788048</td>\n",
       "      <td> 40.649975</td>\n",
       "      <td> 2525</td>\n",
       "      <td> ETA</td>\n",
       "    </tr>\n",
       "    <tr>\n",
       "      <th>4</th>\n",
       "      <td> 0</td>\n",
       "      <td>2013-01-06 23:24:05</td>\n",
       "      <td>-73.788048</td>\n",
       "      <td> 40.649975</td>\n",
       "      <td> 2523</td>\n",
       "      <td> ETA</td>\n",
       "    </tr>\n",
       "  </tbody>\n",
       "</table>\n",
       "</div>"
      ],
      "text/plain": [
       "   ride_id           timestamp  longitude   latitude  wait_time msg_type\n",
       "0        0 2013-01-06 23:23:57 -73.788048  40.649975       2531      REQ\n",
       "1        0 2013-01-06 23:23:59 -73.788048  40.649975       2529      ETA\n",
       "2        0 2013-01-06 23:24:01 -73.788048  40.649975       2527      ETA\n",
       "3        0 2013-01-06 23:24:03 -73.788048  40.649975       2525      ETA\n",
       "4        0 2013-01-06 23:24:05 -73.788048  40.649975       2523      ETA"
      ]
     },
     "execution_count": 12,
     "metadata": {},
     "output_type": "execute_result"
    }
   ],
   "source": [
    "df_sorted_reindexed = df_sorted.reset_index().drop('index', 1)\n",
    "\n",
    "df_sorted_reindexed.head()"
   ]
  },
  {
   "cell_type": "code",
   "execution_count": 13,
   "metadata": {
    "collapsed": false
   },
   "outputs": [],
   "source": [
    "df_sorted_reindexed.to_csv('monday-all.csv')"
   ]
  },
  {
   "cell_type": "code",
   "execution_count": 14,
   "metadata": {
    "collapsed": false
   },
   "outputs": [
    {
     "data": {
      "text/plain": [
       "0   2013-01-07 18:50:00\n",
       "dtype: datetime64[ns]"
      ]
     },
     "execution_count": 14,
     "metadata": {},
     "output_type": "execute_result"
    }
   ],
   "source": [
    "df_sorted_reindexed['timestamp'].mode()"
   ]
  },
  {
   "cell_type": "code",
   "execution_count": 24,
   "metadata": {
    "collapsed": false
   },
   "outputs": [
    {
     "data": {
      "text/plain": [
       "2013-01-07 18:50:00    1504\n",
       "2013-01-07 18:49:00    1484\n",
       "2013-01-07 18:52:00    1472\n",
       "2013-01-07 18:26:00    1466\n",
       "2013-01-07 18:54:00    1461\n",
       "2013-01-07 18:53:00    1461\n",
       "2013-01-07 18:25:00    1460\n",
       "2013-01-07 18:51:00    1458\n",
       "2013-01-07 19:19:00    1451\n",
       "2013-01-07 18:55:00    1451\n",
       "2013-01-07 18:56:00    1444\n",
       "2013-01-07 18:15:00    1429\n",
       "2013-01-07 18:27:00    1423\n",
       "2013-01-07 19:13:00    1422\n",
       "2013-01-07 18:48:00    1417\n",
       "2013-01-07 18:45:00    1415\n",
       "2013-01-07 18:34:00    1415\n",
       "2013-01-07 19:17:00    1414\n",
       "2013-01-07 18:16:00    1413\n",
       "2013-01-07 18:20:00    1413\n",
       "2013-01-07 19:20:00    1413\n",
       "2013-01-07 18:43:00    1410\n",
       "2013-01-07 19:09:00    1409\n",
       "2013-01-07 18:41:00    1408\n",
       "2013-01-07 19:25:00    1405\n",
       "2013-01-07 19:18:00    1402\n",
       "2013-01-07 19:22:00    1402\n",
       "2013-01-07 19:21:00    1401\n",
       "2013-01-07 18:44:00    1401\n",
       "2013-01-07 18:47:00    1400\n",
       "2013-01-07 18:24:00    1400\n",
       "2013-01-07 18:57:00    1399\n",
       "2013-01-07 18:35:00    1397\n",
       "2013-01-07 18:18:00    1397\n",
       "2013-01-07 18:19:00    1396\n",
       "2013-01-07 18:58:00    1394\n",
       "2013-01-07 18:33:00    1392\n",
       "2013-01-07 19:11:00    1391\n",
       "2013-01-07 18:42:00    1391\n",
       "2013-01-07 18:14:00    1386\n",
       "2013-01-07 19:08:00    1386\n",
       "2013-01-07 19:03:00    1386\n",
       "2013-01-07 19:16:00    1383\n",
       "2013-01-07 18:17:00    1382\n",
       "2013-01-07 18:28:00    1379\n",
       "2013-01-07 18:23:00    1378\n",
       "2013-01-07 18:31:00    1377\n",
       "2013-01-07 19:00:00    1375\n",
       "2013-01-07 18:59:00    1373\n",
       "2013-01-07 18:36:00    1370\n",
       "dtype: int64"
      ]
     },
     "execution_count": 24,
     "metadata": {},
     "output_type": "execute_result"
    }
   ],
   "source": [
    "df_sorted_reindexed['timestamp'].value_counts()[:50]"
   ]
  },
  {
   "cell_type": "code",
   "execution_count": null,
   "metadata": {
    "collapsed": true
   },
   "outputs": [],
   "source": []
  }
 ],
 "metadata": {
  "kernelspec": {
   "display_name": "Python 2",
   "language": "python",
   "name": "python2"
  },
  "language_info": {
   "codemirror_mode": {
    "name": "ipython",
    "version": 2
   },
   "file_extension": ".py",
   "mimetype": "text/x-python",
   "name": "python",
   "nbconvert_exporter": "python",
   "pygments_lexer": "ipython2",
   "version": "2.7.9"
  }
 },
 "nbformat": 4,
 "nbformat_minor": 0
}
